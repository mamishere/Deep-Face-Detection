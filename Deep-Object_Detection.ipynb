{
 "cells": [
  {
   "attachments": {},
   "cell_type": "markdown",
   "metadata": {},
   "source": [
    "# **Image Classifier**"
   ]
  },
  {
   "attachments": {},
   "cell_type": "markdown",
   "metadata": {},
   "source": [
    "## Project Content <a id = 0></a>"
   ]
  },
  {
   "attachments": {},
   "cell_type": "markdown",
   "metadata": {},
   "source": [
    "### First Step: First Organization\n",
    "\n",
    "1. [Introduction](#1)\n",
    "2. [Loading libraries and packages to embark our new journey](#2)\n",
    "3. [Checking The Dataset](#3)\n",
    "4. [Creating a Data Pypeline and Loading The Dataset](#4)\n",
    "\n",
    "### Second Step: Data Preprocessing\n",
    "\n",
    "5. [Scaling The Data](#5)\n",
    "6. [Seperating Data into Three Parts of Train, Validation and Test Sets](#6)\n",
    "7. [Categorical Fields Analysis](#7)\n",
    "8. [Feature Scaling](#8)\n",
    "9. [Seperating Data into Two Parts of Train and Test](#9)\n",
    "\n",
    "### Third and Final Step: Modeling\n",
    "\n",
    "7. [Defining Modeling Functions](#7)\n",
    "8. [Building The Model's Architecture](#8)\n",
    "9. [First Time Training](#9)\n",
    "10. [Plotting The Model's Loss and Accuracy](#10)\n",
    "11. [Model's Performance Evaluation](#11)\n",
    "12. [Testing The Model](#12)"
   ]
  },
  {
   "attachments": {},
   "cell_type": "markdown",
   "metadata": {},
   "source": [
    "***\n",
    "\n",
    "# First Step: First Organization\n",
    "\n",
    "***"
   ]
  },
  {
   "attachments": {},
   "cell_type": "markdown",
   "metadata": {},
   "source": [
    "## 1. Introduction <a id = 1></a>"
   ]
  },
  {
   "attachments": {},
   "cell_type": "markdown",
   "metadata": {},
   "source": [
    "This analysis is focused on the behavior of telecom customers who are more likely to terminate their contracts.\n",
    "\n",
    "**Fields**\n",
    "- Demographic information about customers | **Gender, Seniorcitizen, Partnere, Dependents**\n",
    "- Main services that each customer has signed up for | **Phoneservice, Multiplelines, Internetservice**\n",
    "- Internet-based services which customers have signed up for | **Onlinesecurity, Onlinebackup, Deviceprotection, Techsupport, and Streamingtv and streamingmovies**\n",
    "- Customers' accounts information | **Tenure, Monthlycharges, Totalcharges**\n",
    "- Customers' financial information | **Contract, Paymentmethod, Paperlessbilling**\n",
    "- Customers who left within the last month | **Churn**"
   ]
  },
  {
   "attachments": {},
   "cell_type": "markdown",
   "metadata": {},
   "source": [
    "[Project Content](#0)"
   ]
  },
  {
   "attachments": {},
   "cell_type": "markdown",
   "metadata": {},
   "source": [
    "## 2. Loading libraries and packages to embark our new journey <a id = 2></a>"
   ]
  },
  {
   "cell_type": "code",
   "execution_count": 1,
   "metadata": {},
   "outputs": [
    {
     "name": "stdout",
     "output_type": "stream",
     "text": [
      "Init Plugin\n",
      "Init Graph Optimizer\n",
      "Init Kernel\n"
     ]
    }
   ],
   "source": [
    "# Basic Python Packages\n",
    "import os\n",
    "import uuid\n",
    "import time\n",
    "\n",
    "# Numpy Library\n",
    "import numpy as np\n",
    "\n",
    "# Pandas Library and Settings\n",
    "import pandas as pd\n",
    "\n",
    "# Visualization Libraries (Matplotlib, Seaborn)\n",
    "import matplotlib.pyplot as plt\n",
    "\n",
    "# Tensorflow Library\n",
    "import tensorflow as tf\n",
    "\n",
    "gpus = tf.config.experimental.list_physical_devices(\"GPU\")\n",
    "for gpu in gpus:\n",
    "    tf.config.experimental.set_memory_growth(gpu, True)\n",
    "    \n",
    "from tensorflow.keras.models import Sequential\n",
    "from tensorflow.keras.layers import Conv2D, MaxPool2D, Dense, Flatten, BatchNormalization, Dropout\n",
    "from tensorflow.keras import callbacks\n",
    "from tensorflow.keras.callbacks import Callback\n",
    "from tensorflow.keras.utils import plot_model\n",
    "from tensorflow.keras.metrics import BinaryAccuracy, Recall, Precision\n",
    "    \n",
    "# OpenCV\n",
    "import cv2\n",
    "import imghdr\n",
    "\n",
    "# JSON\n",
    "import json\n",
    "\n",
    "%matplotlib inline"
   ]
  },
  {
   "attachments": {},
   "cell_type": "markdown",
   "metadata": {},
   "source": [
    "[Project Content](#0)"
   ]
  },
  {
   "attachments": {},
   "cell_type": "markdown",
   "metadata": {},
   "source": [
    "## 3. Collecting Images <a id = 3></a>"
   ]
  },
  {
   "cell_type": "code",
   "execution_count": 2,
   "metadata": {},
   "outputs": [],
   "source": [
    "images_path = os.path.join(\"data\", \"images\")\n",
    "\n",
    "# Images number\n",
    "m = 30"
   ]
  },
  {
   "cell_type": "code",
   "execution_count": 3,
   "metadata": {},
   "outputs": [
    {
     "name": "stdout",
     "output_type": "stream",
     "text": [
      "Collecting the image 0\n",
      "Collecting the image 1\n",
      "Collecting the image 2\n",
      "Collecting the image 3\n",
      "Collecting the image 4\n",
      "Collecting the image 5\n",
      "Collecting the image 6\n",
      "Collecting the image 7\n",
      "Collecting the image 8\n",
      "Collecting the image 9\n",
      "Collecting the image 10\n",
      "Collecting the image 11\n",
      "Collecting the image 12\n",
      "Collecting the image 13\n",
      "Collecting the image 14\n",
      "Collecting the image 15\n",
      "Collecting the image 16\n",
      "Collecting the image 17\n",
      "Collecting the image 18\n",
      "Collecting the image 19\n",
      "Collecting the image 20\n",
      "Collecting the image 21\n",
      "Collecting the image 22\n",
      "Collecting the image 23\n",
      "Collecting the image 24\n",
      "Collecting the image 25\n",
      "Collecting the image 26\n",
      "Collecting the image 27\n",
      "Collecting the image 28\n",
      "Collecting the image 29\n",
      "Process finished!\n"
     ]
    }
   ],
   "source": [
    "# Establish a conncetion with device camera.\n",
    "capture = cv2.VideoCapture(0)\n",
    "\n",
    "# Capture the images\n",
    "for image_num in range(m):\n",
    "    \n",
    "    print(f\"Collecting the image {image_num}\")\n",
    "    \n",
    "    ret, frame = capture.read()\n",
    "    \n",
    "    image_path = os.path.join(images_path, f\"{str(uuid.uuid1())}.jpeg\")\n",
    "    \n",
    "    cv2.imwrite(image_path, frame)\n",
    "    cv2.imshow(\"frame\", frame)\n",
    "    \n",
    "    time.sleep(1)\n",
    "    \n",
    "    if cv2.waitKey(1) & 0xFF == ord(\"q\"):\n",
    "        break\n",
    "    \n",
    "capture.release()\n",
    "cv2.destroyAllWindows()\n",
    "\n",
    "print(\"Process finished!\")"
   ]
  },
  {
   "attachments": {},
   "cell_type": "markdown",
   "metadata": {},
   "source": [
    "[Project Content](#0)"
   ]
  },
  {
   "attachments": {},
   "cell_type": "markdown",
   "metadata": {},
   "source": [
    "## 4. Labeling Images <a id = 4></a>"
   ]
  },
  {
   "attachments": {},
   "cell_type": "markdown",
   "metadata": {},
   "source": [
    "This step has been done using Labelme software."
   ]
  },
  {
   "attachments": {},
   "cell_type": "markdown",
   "metadata": {},
   "source": [
    "## 5. Reviewing Dataset and Building an Image Loading Function <a id = 5></a>"
   ]
  },
  {
   "attachments": {},
   "cell_type": "markdown",
   "metadata": {},
   "source": [
    "We have to limit the GPU memory growth by tf, since it will use all of the space of VRAM."
   ]
  },
  {
   "cell_type": "code",
   "execution_count": 3,
   "metadata": {},
   "outputs": [],
   "source": [
    "gpus = tf.config.experimental.list_physical_devices('GPU')\n",
    "for gpu in gpus: \n",
    "    tf.config.experimental.set_memory_growth(gpu, True)"
   ]
  },
  {
   "cell_type": "code",
   "execution_count": 9,
   "metadata": {},
   "outputs": [
    {
     "data": {
      "text/plain": [
       "[PhysicalDevice(name='/physical_device:GPU:0', device_type='GPU')]"
      ]
     },
     "execution_count": 9,
     "metadata": {},
     "output_type": "execute_result"
    }
   ],
   "source": [
    "tf.config.list_physical_devices(\"GPU\")"
   ]
  },
  {
   "attachments": {},
   "cell_type": "markdown",
   "metadata": {},
   "source": [
    "Now it's time to load images into the tensorflow data pypeline."
   ]
  },
  {
   "cell_type": "code",
   "execution_count": 17,
   "metadata": {},
   "outputs": [],
   "source": [
    "images = tf.data.Dataset.list_files(\"data/images/*.jpeg\", shuffle=False)"
   ]
  },
  {
   "attachments": {},
   "cell_type": "markdown",
   "metadata": {},
   "source": [
    "Now, everyhing is fine and we can load and check the images."
   ]
  },
  {
   "cell_type": "code",
   "execution_count": 20,
   "metadata": {},
   "outputs": [],
   "source": [
    "def load_image(image_path):\n",
    "    \n",
    "    byte_image = tf.io.read_file(image_path)\n",
    "    decoded_image = tf.io.decode_jpeg(byte_image)\n",
    "    \n",
    "    return decoded_image"
   ]
  },
  {
   "attachments": {},
   "cell_type": "markdown",
   "metadata": {},
   "source": [
    "Map function will run load image function on each object of the dataset which are passed to pypeline."
   ]
  },
  {
   "cell_type": "code",
   "execution_count": 21,
   "metadata": {},
   "outputs": [],
   "source": [
    "images = images.map(load_image)"
   ]
  },
  {
   "attachments": {},
   "cell_type": "markdown",
   "metadata": {},
   "source": [
    "Now we can visualize these images."
   ]
  },
  {
   "cell_type": "code",
   "execution_count": null,
   "metadata": {},
   "outputs": [],
   "source": []
  },
  {
   "attachments": {},
   "cell_type": "markdown",
   "metadata": {},
   "source": [
    "[Project Content](#0)"
   ]
  },
  {
   "attachments": {},
   "cell_type": "markdown",
   "metadata": {},
   "source": [
    "***\n",
    "\n",
    "# Second Step: Data Preprocessing\n",
    "\n",
    "***"
   ]
  },
  {
   "attachments": {},
   "cell_type": "markdown",
   "metadata": {},
   "source": [
    "## 5. Scaling The Data <a id = 5></a>"
   ]
  },
  {
   "attachments": {},
   "cell_type": "markdown",
   "metadata": {},
   "source": [
    "## 6. Seperating Data into Three Parts of Train, Validation and Test Sets <a id = 6></a>"
   ]
  },
  {
   "attachments": {},
   "cell_type": "markdown",
   "metadata": {},
   "source": [
    "***\n",
    "\n",
    "# Third and Final Step: Modeling\n",
    "\n",
    "***"
   ]
  },
  {
   "attachments": {},
   "cell_type": "markdown",
   "metadata": {},
   "source": [
    "## 7. Defining Modeling Functions <a id = 7></a>"
   ]
  },
  {
   "attachments": {},
   "cell_type": "markdown",
   "metadata": {},
   "source": [
    "## 8. Building The Model's Architecture <a id = 8></a>"
   ]
  },
  {
   "attachments": {},
   "cell_type": "markdown",
   "metadata": {},
   "source": [
    "## 9. First Time Training <a id = 9></a>"
   ]
  },
  {
   "attachments": {},
   "cell_type": "markdown",
   "metadata": {},
   "source": [
    "## 10. Plotting The Models's Loss and Accuracy <a id = 10></a>"
   ]
  },
  {
   "attachments": {},
   "cell_type": "markdown",
   "metadata": {},
   "source": [
    "## 11. Model's Performance Evaluation <a id = 12></a>"
   ]
  },
  {
   "attachments": {},
   "cell_type": "markdown",
   "metadata": {},
   "source": [
    "## 12. Testing The Model <a id = 12></a>"
   ]
  }
 ],
 "metadata": {
  "kernelspec": {
   "display_name": "tensorflow",
   "language": "python",
   "name": "python3"
  },
  "language_info": {
   "codemirror_mode": {
    "name": "ipython",
    "version": 3
   },
   "file_extension": ".py",
   "mimetype": "text/x-python",
   "name": "python",
   "nbconvert_exporter": "python",
   "pygments_lexer": "ipython3",
   "version": "3.9.13"
  },
  "orig_nbformat": 4
 },
 "nbformat": 4,
 "nbformat_minor": 2
}
