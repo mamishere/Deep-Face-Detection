{
 "cells": [
  {
   "attachments": {},
   "cell_type": "markdown",
   "metadata": {},
   "source": [
    "# **Image Classifier**"
   ]
  },
  {
   "attachments": {},
   "cell_type": "markdown",
   "metadata": {},
   "source": [
    "## Project Content <a id = 0></a>"
   ]
  },
  {
   "attachments": {},
   "cell_type": "markdown",
   "metadata": {},
   "source": [
    "### First Step: First Organization\n",
    "\n",
    "1. [Introduction](#1)\n",
    "2. [Loading libraries and packages to embark our new journey](#2)\n",
    "3. [Checking The Dataset](#3)\n",
    "4. [Creating a Data Pypeline and Loading The Dataset](#4)\n",
    "\n",
    "### Second Step: Data Preprocessing\n",
    "\n",
    "5. [Scaling The Data](#5)\n",
    "6. [Seperating Data into Three Parts of Train, Validation and Test Sets](#6)\n",
    "7. [Categorical Fields Analysis](#7)\n",
    "8. [Feature Scaling](#8)\n",
    "9. [Seperating Data into Two Parts of Train and Test](#9)\n",
    "\n",
    "### Third and Final Step: Modeling\n",
    "\n",
    "7. [Defining Modeling Functions](#7)\n",
    "8. [Building The Model's Architecture](#8)\n",
    "9. [First Time Training](#9)\n",
    "10. [Plotting The Model's Loss and Accuracy](#10)\n",
    "11. [Model's Performance Evaluation](#11)\n",
    "12. [Testing The Model](#12)"
   ]
  },
  {
   "attachments": {},
   "cell_type": "markdown",
   "metadata": {},
   "source": [
    "***\n",
    "\n",
    "# First Step: First Organization\n",
    "\n",
    "***"
   ]
  },
  {
   "attachments": {},
   "cell_type": "markdown",
   "metadata": {},
   "source": [
    "## 1. Introduction <a id = 1></a>"
   ]
  },
  {
   "attachments": {},
   "cell_type": "markdown",
   "metadata": {},
   "source": [
    "This analysis is focused on the behavior of telecom customers who are more likely to terminate their contracts.\n",
    "\n",
    "**Fields**\n",
    "- Demographic information about customers | **Gender, Seniorcitizen, Partnere, Dependents**\n",
    "- Main services that each customer has signed up for | **Phoneservice, Multiplelines, Internetservice**\n",
    "- Internet-based services which customers have signed up for | **Onlinesecurity, Onlinebackup, Deviceprotection, Techsupport, and Streamingtv and streamingmovies**\n",
    "- Customers' accounts information | **Tenure, Monthlycharges, Totalcharges**\n",
    "- Customers' financial information | **Contract, Paymentmethod, Paperlessbilling**\n",
    "- Customers who left within the last month | **Churn**"
   ]
  },
  {
   "attachments": {},
   "cell_type": "markdown",
   "metadata": {},
   "source": [
    "[Project Content](#0)"
   ]
  },
  {
   "attachments": {},
   "cell_type": "markdown",
   "metadata": {},
   "source": [
    "## 2. Loading libraries and packages to embark our new journey <a id = 2></a>"
   ]
  },
  {
   "cell_type": "code",
   "execution_count": 2,
   "metadata": {},
   "outputs": [
    {
     "name": "stdout",
     "output_type": "stream",
     "text": [
      "Init Plugin\n",
      "Init Graph Optimizer\n",
      "Init Kernel\n"
     ]
    }
   ],
   "source": [
    "# Basic Python Packages\n",
    "import os\n",
    "import uuid\n",
    "\n",
    "# Numpy Library\n",
    "import numpy as np\n",
    "\n",
    "# Pandas Library and Settings\n",
    "import pandas as pd\n",
    "\n",
    "# Visualization Libraries (Matplotlib, Seaborn)\n",
    "import matplotlib.pyplot as plt\n",
    "\n",
    "# Tensorflow Library\n",
    "import tensorflow as tf\n",
    "\n",
    "gpus = tf.config.experimental.list_physical_devices(\"GPU\")\n",
    "for gpu in gpus:\n",
    "    tf.config.experimental.set_memory_growth(gpu, True)\n",
    "    \n",
    "from tensorflow.keras.models import Sequential\n",
    "from tensorflow.keras.layers import Conv2D, MaxPool2D, Dense, Flatten, BatchNormalization, Dropout\n",
    "from tensorflow.keras import callbacks\n",
    "from tensorflow.keras.callbacks import Callback\n",
    "from tensorflow.keras.utils import plot_model\n",
    "from tensorflow.keras.metrics import BinaryAccuracy, Recall, Precision\n",
    "    \n",
    "# OpenCV\n",
    "import cv2\n",
    "import imghdr\n",
    "\n",
    "%matplotlib inline"
   ]
  },
  {
   "cell_type": "code",
   "execution_count": null,
   "metadata": {},
   "outputs": [],
   "source": [
    "conda install uuid"
   ]
  },
  {
   "attachments": {},
   "cell_type": "markdown",
   "metadata": {},
   "source": [
    "[Project Content](#0)"
   ]
  },
  {
   "attachments": {},
   "cell_type": "markdown",
   "metadata": {},
   "source": [
    "## 3. Checking The Dataset <a id = 3></a>"
   ]
  },
  {
   "attachments": {},
   "cell_type": "markdown",
   "metadata": {},
   "source": [
    "[Project Content](#0)"
   ]
  },
  {
   "attachments": {},
   "cell_type": "markdown",
   "metadata": {},
   "source": [
    "## 4. Creating a Data Pypeline and Loading The Dataset <a id = 4></a>"
   ]
  },
  {
   "attachments": {},
   "cell_type": "markdown",
   "metadata": {},
   "source": [
    "***\n",
    "\n",
    "# Second Step: Data Preprocessing\n",
    "\n",
    "***"
   ]
  },
  {
   "attachments": {},
   "cell_type": "markdown",
   "metadata": {},
   "source": [
    "## 5. Scaling The Data <a id = 5></a>"
   ]
  },
  {
   "attachments": {},
   "cell_type": "markdown",
   "metadata": {},
   "source": [
    "## 6. Seperating Data into Three Parts of Train, Validation and Test Sets <a id = 6></a>"
   ]
  },
  {
   "attachments": {},
   "cell_type": "markdown",
   "metadata": {},
   "source": [
    "***\n",
    "\n",
    "# Third and Final Step: Modeling\n",
    "\n",
    "***"
   ]
  },
  {
   "attachments": {},
   "cell_type": "markdown",
   "metadata": {},
   "source": [
    "## 7. Defining Modeling Functions <a id = 7></a>"
   ]
  },
  {
   "attachments": {},
   "cell_type": "markdown",
   "metadata": {},
   "source": [
    "## 8. Building The Model's Architecture <a id = 8></a>"
   ]
  },
  {
   "attachments": {},
   "cell_type": "markdown",
   "metadata": {},
   "source": [
    "## 9. First Time Training <a id = 9></a>"
   ]
  },
  {
   "attachments": {},
   "cell_type": "markdown",
   "metadata": {},
   "source": [
    "## 10. Plotting The Models's Loss and Accuracy <a id = 10></a>"
   ]
  },
  {
   "attachments": {},
   "cell_type": "markdown",
   "metadata": {},
   "source": [
    "## 11. Model's Performance Evaluation <a id = 12></a>"
   ]
  },
  {
   "attachments": {},
   "cell_type": "markdown",
   "metadata": {},
   "source": [
    "## 12. Testing The Model <a id = 12></a>"
   ]
  }
 ],
 "metadata": {
  "kernelspec": {
   "display_name": "tensorflow",
   "language": "python",
   "name": "python3"
  },
  "language_info": {
   "codemirror_mode": {
    "name": "ipython",
    "version": 3
   },
   "file_extension": ".py",
   "mimetype": "text/x-python",
   "name": "python",
   "nbconvert_exporter": "python",
   "pygments_lexer": "ipython3",
   "version": "3.9.13"
  },
  "orig_nbformat": 4
 },
 "nbformat": 4,
 "nbformat_minor": 2
}
